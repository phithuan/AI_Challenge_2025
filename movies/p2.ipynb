{
 "cells": [
  {
   "cell_type": "code",
   "execution_count": null,
   "id": "8b787067",
   "metadata": {},
   "outputs": [],
   "source": [
    "import spacy\n",
    "import json\n",
    "\n",
    "nlp = spacy.load('en_core_web_lg')\n",
    "\n",
    "descriptions = [\n",
    "    \"A pulse-pounding action film with explosive shootouts and high-octane chases\",\n",
    "    \"An epic fantasy adventure set in a magical realm with mythical creatures and epic battles\",\n",
    "    \"A gripping sci-fi thriller exploring the mysteries of outer space and extraterrestrial life\",\n",
    "    \"A heartwarming family drama centered around love, loss, and the bonds that endure\",\n",
    "    \"A mind-bending psychological thriller that keeps you on the edge of your seat\",\n",
    "    \"A hilarious comedy filled with witty banter, slapstick humor, and outrageous antics\",\n",
    "    \"A romantic escapade in the enchanting streets of Paris, weaving tales of love and destiny\",\n",
    "    \"A spine-chilling horror story set in a haunted mansion with dark secrets lurking within\",\n",
    "    \"A thought-provoking drama delving into the complexities of human relationships and morality\",\n",
    "    \"A captivating mystery unfolding in a small town, where every resident has a hidden agenda\"\n",
    "]\n",
    "\n",
    "description_vectors_list = []\n",
    "\n",
    "for description in descriptions:\n",
    "    doc = nlp(description)\n",
    "\n",
    "    reduced_vector = doc.vector[:128].tolist()\n",
    "\n",
    "    entry = {\"vector\": reduced_vector, \"description\": description}\n",
    "    description_vectors_list.append(entry)\n",
    "\n",
    "with open('dummy_data.json', 'w') as json_file:\n",
    "    json.dump(description_vectors_list, json_file, indent=2)\n",
    "\n",
    "print(\"JSON file created: dummy_data.json\")"
   ]
  }
 ],
 "metadata": {
  "language_info": {
   "name": "python"
  }
 },
 "nbformat": 4,
 "nbformat_minor": 5
}
