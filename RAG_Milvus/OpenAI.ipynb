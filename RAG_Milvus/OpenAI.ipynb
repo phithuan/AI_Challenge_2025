{
 "cells": [
  {
   "cell_type": "code",
   "execution_count": 44,
   "id": "7e08a122",
   "metadata": {},
   "outputs": [],
   "source": [
    "import os\n",
    "os.environ[\"OPENAI_API_KEY\"] = \"YOUR_OPENAI\""
   ]
  },
  {
   "cell_type": "markdown",
   "id": "033f6e91",
   "metadata": {},
   "source": [
    "# Prepare the data"
   ]
  },
  {
   "cell_type": "markdown",
   "id": "e8f05dcc",
   "metadata": {},
   "source": [
    "# Prepare the Embedding Model"
   ]
  },
  {
   "cell_type": "markdown",
   "id": "0e617989",
   "metadata": {},
   "source": [
    "# Load data into Milvus\n"
   ]
  },
  {
   "cell_type": "code",
   "execution_count": 45,
   "id": "a169a36b",
   "metadata": {},
   "outputs": [
    {
     "name": "stderr",
     "output_type": "stream",
     "text": [
      "Creating embeddings: 100%|██████████| 7/7 [00:00<00:00, 15.55it/s]\n"
     ]
    },
    {
     "name": "stdout",
     "output_type": "stream",
     "text": [
      "Đã chèn xong!\n"
     ]
    }
   ],
   "source": [
    "from pymilvus import MilvusClient\n",
    "from sentence_transformers import SentenceTransformer\n",
    "from tqdm import tqdm\n",
    "\n",
    "# Khởi tạo mô hình sentence-transformers\n",
    "model = SentenceTransformer('all-MiniLM-L6-v2')\n",
    "def emb_text(text):\n",
    "    return model.encode(text).tolist()\n",
    "\n",
    "# Đọc dữ liệu (giả định text_lines đã được định nghĩa)\n",
    "from glob import glob\n",
    "text_lines = []\n",
    "for file_path in glob(r\"D:\\Big_project_2025\\RAG_Milvus\\data\\*.md\", recursive=True):\n",
    "    with open(file_path, \"r\", encoding=\"utf-8\") as file:\n",
    "        file_text = file.read()\n",
    "    text_lines += file_text.split(\"# \")\n",
    "text_lines = [line.strip() for line in text_lines if line.strip() and line]\n",
    "\n",
    "# Tạo embeddings\n",
    "embeddings = [emb_text(line) for line in tqdm(text_lines, desc=\"Creating embeddings\")]\n",
    "\n",
    "# Cấu hình và chèn dữ liệu vào Milvus\n",
    "milvus_client = MilvusClient(uri=\"http://localhost:19530\")\n",
    "collection_name = \"my_rag_collection\"\n",
    "\n",
    "if milvus_client.has_collection(collection_name):\n",
    "    milvus_client.drop_collection(collection_name)\n",
    "\n",
    "milvus_client.create_collection(\n",
    "    collection_name=collection_name,\n",
    "    dimension=384,  # Phù hợp với sentence-transformers\n",
    "    metric_type=\"IP\",\n",
    "    consistency_level=\"Bounded\",\n",
    ")\n",
    "\n",
    "data = [{\"id\": i, \"vector\": vec, \"text\": text} for i, (text, vec) in enumerate(zip(text_lines, embeddings))]\n",
    "milvus_client.insert(collection_name=collection_name, data=data)\n",
    "print(\"Đã chèn xong!\")"
   ]
  },
  {
   "cell_type": "markdown",
   "id": "0f80115e",
   "metadata": {},
   "source": [
    "# triển khai RAG"
   ]
  },
  {
   "cell_type": "code",
   "execution_count": 53,
   "id": "f5d333f4",
   "metadata": {},
   "outputs": [
    {
     "name": "stdout",
     "output_type": "stream",
     "text": [
      "Context: THÔNG TIN TRƯỜNG\n",
      "02923894050\n",
      "\n",
      "phonghanhchinh@ctuet.edu.vn\n",
      "\n",
      "02923894103\n",
      "\n",
      "256 Nguyễn Văn Cừ, An Hòa, Ninh Kiều, Cần Thơ\n",
      "Facebook: https://www.facebook.com/CTUT.CT/\n",
      "\n",
      "\n",
      "###\n",
      "SỨ MẠNG\n",
      "\n",
      "       Đào tạo nguồn nhân lực có đạo đức tốt, có chuyên môn cao, có khả năng tiếp cận nghiên cứu khoa học, ứng dụng và chuyển giao công nghệ tiên tiến trong lĩnh vực kỹ thuật, công nghệ, đáp ứng nhu cầu phát triển của TP Cần Thơ, vùng ĐBSCL và cả nước.\n",
      "\n",
      "###\n",
      "TRIẾT LÝ GIÁO DỤC\n",
      "\n",
      "         Đức trí - Kỹ năng - Sáng tạo - Hội nhập\n"
     ]
    }
   ],
   "source": [
    "question = \"thông tinh trường 256 Nguyễn Văn Cừ, An Hòa\"\n",
    "\n",
    "search_res = milvus_client.search(\n",
    "    collection_name=collection_name,\n",
    "    data=[emb_text(question)],\n",
    "    limit=3,\n",
    "    search_params={\"metric_type\": \"IP\", \"params\": {}},\n",
    "    output_fields=[\"text\"],\n",
    ")\n",
    "\n",
    "import json\n",
    "retrieved_lines_with_distances = [(res[\"entity\"][\"text\"], res[\"distance\"]) for res in search_res[0]]\n",
    "#print(json.dumps(retrieved_lines_with_distances, indent=4))\n",
    "context = \"\\n\".join(\n",
    "    [line_with_distance[0] for line_with_distance in retrieved_lines_with_distances]\n",
    ")\n",
    "print(\"Context:\", context)"
   ]
  },
  {
   "cell_type": "code",
   "execution_count": null,
   "id": "12aeba71",
   "metadata": {},
   "outputs": [],
   "source": []
  }
 ],
 "metadata": {
  "kernelspec": {
   "display_name": "venv",
   "language": "python",
   "name": "python3"
  },
  "language_info": {
   "codemirror_mode": {
    "name": "ipython",
    "version": 3
   },
   "file_extension": ".py",
   "mimetype": "text/x-python",
   "name": "python",
   "nbconvert_exporter": "python",
   "pygments_lexer": "ipython3",
   "version": "3.13.6"
  }
 },
 "nbformat": 4,
 "nbformat_minor": 5
}
