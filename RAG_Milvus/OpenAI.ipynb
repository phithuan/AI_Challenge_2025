{
 "cells": [
  {
   "cell_type": "markdown",
   "id": "0e617989",
   "metadata": {},
   "source": [
    "# Build RAG with Milvus\n"
   ]
  },
  {
   "cell_type": "code",
   "execution_count": 1,
   "id": "6b843db5",
   "metadata": {},
   "outputs": [
    {
     "name": "stderr",
     "output_type": "stream",
     "text": [
      "d:\\Big_project_2025\\venv\\Lib\\site-packages\\google\\protobuf\\runtime_version.py:98: UserWarning: Protobuf gencode version 5.27.2 is exactly one major version older than the runtime version 6.31.1 at schema.proto. Please update the gencode to avoid compatibility violations in the next runtime release.\n",
      "  warnings.warn(\n",
      "d:\\Big_project_2025\\venv\\Lib\\site-packages\\google\\protobuf\\runtime_version.py:98: UserWarning: Protobuf gencode version 5.27.2 is exactly one major version older than the runtime version 6.31.1 at common.proto. Please update the gencode to avoid compatibility violations in the next runtime release.\n",
      "  warnings.warn(\n",
      "d:\\Big_project_2025\\venv\\Lib\\site-packages\\google\\protobuf\\runtime_version.py:98: UserWarning: Protobuf gencode version 5.27.2 is exactly one major version older than the runtime version 6.31.1 at milvus.proto. Please update the gencode to avoid compatibility violations in the next runtime release.\n",
      "  warnings.warn(\n",
      "d:\\Big_project_2025\\venv\\Lib\\site-packages\\google\\protobuf\\runtime_version.py:98: UserWarning: Protobuf gencode version 5.27.2 is exactly one major version older than the runtime version 6.31.1 at rg.proto. Please update the gencode to avoid compatibility violations in the next runtime release.\n",
      "  warnings.warn(\n",
      "d:\\Big_project_2025\\venv\\Lib\\site-packages\\google\\protobuf\\runtime_version.py:98: UserWarning: Protobuf gencode version 5.27.2 is exactly one major version older than the runtime version 6.31.1 at feder.proto. Please update the gencode to avoid compatibility violations in the next runtime release.\n",
      "  warnings.warn(\n",
      "d:\\Big_project_2025\\venv\\Lib\\site-packages\\google\\protobuf\\runtime_version.py:98: UserWarning: Protobuf gencode version 5.27.2 is exactly one major version older than the runtime version 6.31.1 at msg.proto. Please update the gencode to avoid compatibility violations in the next runtime release.\n",
      "  warnings.warn(\n"
     ]
    }
   ],
   "source": [
    "# 📌 Cell 1: Import thư viện cần thiết\n",
    "from pymilvus import MilvusClient\n",
    "from sentence_transformers import SentenceTransformer\n",
    "from tqdm import tqdm\n",
    "from glob import glob\n",
    "import os\n",
    "\n",
    "milvus_client = MilvusClient(uri=\"http://localhost:19530\")\n",
    "collection_name = \"my_rag_collection\"\n",
    "\n",
    "# 📌 Cell 2: Load SentenceTransformer model load một lần duy nhất\n",
    "# Model sẽ được tải và lưu cache tại D:\\Big_project_2025\n",
    "model = SentenceTransformer(\n",
    "    'all-MiniLM-L6-v2',\n",
    "    cache_folder=\"D:/Big_project_2025\"\n",
    ")\n",
    "\n",
    "# Hàm tiện ích để sinh embeddings cho text\n",
    "def emb_text(text): \n",
    "    return model.encode(text).tolist()\n"
   ]
  },
  {
   "cell_type": "code",
   "execution_count": 12,
   "id": "640d23a5",
   "metadata": {},
   "outputs": [
    {
     "name": "stdout",
     "output_type": "stream",
     "text": [
      "✅ Số đoạn văn lấy được: 13\n"
     ]
    }
   ],
   "source": [
    "# 📌 Cell 3: Đọc dữ liệu từ file .md\n",
    "# Lấy toàn bộ file trong thư mục data\n",
    "text_lines = []\n",
    "for file_path in glob(r\"D:\\Big_project_2025\\RAG_Milvus\\data_Shop\\*.md\", recursive=True):\n",
    "    with open(file_path, \"r\", encoding=\"utf-8\") as file:\n",
    "        file_text = file.read()\n",
    "    # Cắt text theo header Markdown \"# ...\"\n",
    "    text_lines += file_text.split(\"# \")\n",
    "\n",
    "# Loại bỏ dòng rỗng + strip khoảng trắng\n",
    "text_lines = [line.strip() for line in text_lines if line.strip() and line]\n",
    "print(f\"✅ Số đoạn văn lấy được: {len(text_lines)}\")\n"
   ]
  },
  {
   "cell_type": "code",
   "execution_count": 13,
   "id": "84238fc2",
   "metadata": {},
   "outputs": [
    {
     "name": "stderr",
     "output_type": "stream",
     "text": [
      "Creating embeddings: 100%|██████████| 13/13 [00:00<00:00, 22.80it/s]"
     ]
    },
    {
     "name": "stdout",
     "output_type": "stream",
     "text": [
      "✅ Đã tạo 13 embeddings\n"
     ]
    },
    {
     "name": "stderr",
     "output_type": "stream",
     "text": [
      "\n"
     ]
    }
   ],
   "source": [
    "# 📌 Cell 4: Tạo embeddings cho dữ liệu\n",
    "embeddings = [emb_text(line) for line in tqdm(text_lines, desc=\"Creating embeddings\")]\n",
    "print(f\"✅ Đã tạo {len(embeddings)} embeddings\")"
   ]
  },
  {
   "cell_type": "code",
   "execution_count": 14,
   "id": "c88ca275",
   "metadata": {},
   "outputs": [
    {
     "name": "stdout",
     "output_type": "stream",
     "text": [
      "⚠️ Đã xóa collection cũ: my_rag_collection\n"
     ]
    }
   ],
   "source": [
    "# 📌 Cell 5: Kết nối Milvus\n",
    "milvus_client = MilvusClient(uri=\"http://localhost:19530\")\n",
    "collection_name = \"my_rag_collection\"\n",
    "\n",
    "# Nếu collection đã tồn tại thì xóa để tạo mới\n",
    "if milvus_client.has_collection(collection_name):\n",
    "      milvus_client.drop_collection(collection_name)\n",
    "      print(\"⚠️ Đã xóa collection cũ:\", collection_name)"
   ]
  },
  {
   "cell_type": "code",
   "execution_count": 15,
   "id": "3aa3c33e",
   "metadata": {},
   "outputs": [
    {
     "name": "stdout",
     "output_type": "stream",
     "text": [
      "✅ Đã tạo collection: my_rag_collection\n"
     ]
    }
   ],
   "source": [
    "# 📌 Cell 6: Tạo collection mới trong Milvus\n",
    "milvus_client.create_collection(\n",
    "    collection_name=collection_name,\n",
    "    dimension=384,  # 384 = embedding size của all-MiniLM-L6-v2\n",
    "    metric_type=\"IP\",  # Inner Product (phù hợp cho similarity search)\n",
    "    consistency_level=\"Bounded\",\n",
    ")\n",
    "print(\"✅ Đã tạo collection:\", collection_name)\n"
   ]
  },
  {
   "cell_type": "code",
   "execution_count": 16,
   "id": "2e5bb6ef",
   "metadata": {},
   "outputs": [
    {
     "name": "stdout",
     "output_type": "stream",
     "text": [
      "🎉 Đã chèn 13 records vào Milvus collection 'my_rag_collection'\n"
     ]
    }
   ],
   "source": [
    "# 📌 Cell 7: Chuẩn bị dữ liệu và insert vào Milvus\n",
    "data = [\n",
    "    {\"id\": i, \"vector\": vec, \"text\": text}\n",
    "    for i, (text, vec) in enumerate(zip(text_lines, embeddings))\n",
    "]\n",
    "\n",
    "milvus_client.insert(collection_name=collection_name, data=data)\n",
    "print(f\"🎉 Đã chèn {len(data)} records vào Milvus collection '{collection_name}'\")\n"
   ]
  },
  {
   "cell_type": "markdown",
   "id": "0f80115e",
   "metadata": {},
   "source": [
    "## triển khai RAG"
   ]
  },
  {
   "cell_type": "code",
   "execution_count": 17,
   "id": "f5d333f4",
   "metadata": {},
   "outputs": [
    {
     "name": "stdout",
     "output_type": "stream",
     "text": [
      "kết quả của: Danh sách bàn làm việc\n",
      "\n",
      "**Desks Boulerard**\n",
      "- Giá: 39.999.000 VNĐ\n",
      "- Mô tả: Phù hợp cho học tập, làm việc tại nhà hoặc văn phòng.\n",
      "\n",
      "**Desks Cottage**\n",
      "- Giá: 379.999.000 VNĐ\n",
      "- Mô tả: Bàn làm việc đa năng, có ngăn kéo tiện lợi.\n",
      "\n",
      "**Desks Harper**\n",
      "- Giá: 100.000.000 VNĐ\n",
      "- Mô tả: Chất liệu gỗ công nghiệp bền đẹp, chống ẩm mốc.\n"
     ]
    }
   ],
   "source": [
    "# 📌 Câu hỏi\n",
    "question = \"vật liệu là gì?\"\n",
    "\n",
    "# 📌 Search trong Milvus (chỉ lấy top 1)\n",
    "search_res = milvus_client.search(\n",
    "    collection_name=collection_name,\n",
    "    data=[emb_text(question)],\n",
    "    limit=1,  # 🔹 Chỉ lấy 1 kết quả tốt nhất\n",
    "    search_params={\"metric_type\": \"IP\", \"params\": {}},\n",
    "    output_fields=[\"text\"],\n",
    ")\n",
    "\n",
    "# 📌 Lấy text từ kết quả\n",
    "best_text = search_res[0][0][\"entity\"][\"text\"]\n",
    "#best_distance = search_res[0][0][\"distance\"]\n",
    "\n",
    "print(\"kết quả của:\", best_text)\n",
    "#print(\"📏 Độ tương đồng:\", best_distance)\n"
   ]
  },
  {
   "cell_type": "markdown",
   "id": "dabafa6a",
   "metadata": {},
   "source": [
    "# Hybrid Search with Milvus"
   ]
  }
 ],
 "metadata": {
  "kernelspec": {
   "display_name": "venv",
   "language": "python",
   "name": "python3"
  },
  "language_info": {
   "codemirror_mode": {
    "name": "ipython",
    "version": 3
   },
   "file_extension": ".py",
   "mimetype": "text/x-python",
   "name": "python",
   "nbconvert_exporter": "python",
   "pygments_lexer": "ipython3",
   "version": "3.13.5"
  }
 },
 "nbformat": 4,
 "nbformat_minor": 5
}
