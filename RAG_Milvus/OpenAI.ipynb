{
 "cells": [
  {
   "cell_type": "code",
   "execution_count": null,
   "id": "7e08a122",
   "metadata": {},
   "outputs": [],
   "source": [
    "# import os\n",
    "# os.environ[\"OPENAI_API_KEY\"] = \"YOUR_OPENAI\""
   ]
  },
  {
   "cell_type": "markdown",
   "id": "0e617989",
   "metadata": {},
   "source": [
    "# Load data into Milvus\n"
   ]
  },
  {
   "cell_type": "code",
   "execution_count": 15,
   "id": "6b843db5",
   "metadata": {},
   "outputs": [],
   "source": [
    "# 📌 Cell 1: Import thư viện cần thiết\n",
    "from pymilvus import MilvusClient\n",
    "from sentence_transformers import SentenceTransformer\n",
    "from tqdm import tqdm\n",
    "from glob import glob\n",
    "import os\n",
    "\n",
    "milvus_client = MilvusClient(uri=\"http://localhost:19530\")\n",
    "collection_name = \"my_rag_collection\"\n",
    "\n",
    "# 📌 Cell 2: Load SentenceTransformer model load một lần duy nhất\n",
    "# Model sẽ được tải và lưu cache tại D:\\Big_project_2025\n",
    "model = SentenceTransformer(\n",
    "    'all-MiniLM-L6-v2',\n",
    "    cache_folder=\"D:/Big_project_2025\"\n",
    ")\n",
    "\n",
    "# Hàm tiện ích để sinh embeddings cho text\n",
    "def emb_text(text): \n",
    "    return model.encode(text).tolist()\n"
   ]
  },
  {
   "cell_type": "code",
   "execution_count": 16,
   "id": "640d23a5",
   "metadata": {},
   "outputs": [
    {
     "name": "stdout",
     "output_type": "stream",
     "text": [
      "✅ Số đoạn văn lấy được: 8\n"
     ]
    }
   ],
   "source": [
    "# 📌 Cell 3: Đọc dữ liệu từ file .md\n",
    "# Lấy toàn bộ file trong thư mục data\n",
    "text_lines = []\n",
    "for file_path in glob(r\"D:\\Big_project_2025\\RAG_Milvus\\data\\*.md\", recursive=True):\n",
    "    with open(file_path, \"r\", encoding=\"utf-8\") as file:\n",
    "        file_text = file.read()\n",
    "    # Cắt text theo header Markdown \"# ...\"\n",
    "    text_lines += file_text.split(\"# \")\n",
    "\n",
    "# Loại bỏ dòng rỗng + strip khoảng trắng\n",
    "text_lines = [line.strip() for line in text_lines if line.strip() and line]\n",
    "print(f\"✅ Số đoạn văn lấy được: {len(text_lines)}\")\n"
   ]
  },
  {
   "cell_type": "code",
   "execution_count": 17,
   "id": "84238fc2",
   "metadata": {},
   "outputs": [
    {
     "name": "stderr",
     "output_type": "stream",
     "text": [
      "Creating embeddings: 100%|██████████| 8/8 [00:00<00:00, 18.57it/s]"
     ]
    },
    {
     "name": "stdout",
     "output_type": "stream",
     "text": [
      "✅ Đã tạo 8 embeddings\n"
     ]
    },
    {
     "name": "stderr",
     "output_type": "stream",
     "text": [
      "\n"
     ]
    }
   ],
   "source": [
    "# 📌 Cell 4: Tạo embeddings cho dữ liệu\n",
    "embeddings = [emb_text(line) for line in tqdm(text_lines, desc=\"Creating embeddings\")]\n",
    "print(f\"✅ Đã tạo {len(embeddings)} embeddings\")"
   ]
  },
  {
   "cell_type": "code",
   "execution_count": null,
   "id": "c88ca275",
   "metadata": {},
   "outputs": [
    {
     "name": "stdout",
     "output_type": "stream",
     "text": [
      "⚠️ Đã xóa collection cũ: my_rag_collection\n"
     ]
    }
   ],
   "source": [
    "# 📌 Cell 5: Kết nối Milvus\n",
    "milvus_client = MilvusClient(uri=\"http://localhost:19530\")\n",
    "collection_name = \"my_rag_collection\"\n",
    "\n",
    "# Nếu collection đã tồn tại thì xóa để tạo mới\n",
    "# if milvus_client.has_collection(collection_name):\n",
    "#      milvus_client.drop_collection(collection_name)\n",
    "#      print(\"⚠️ Đã xóa collection cũ:\", collection_name)"
   ]
  },
  {
   "cell_type": "code",
   "execution_count": 19,
   "id": "3aa3c33e",
   "metadata": {},
   "outputs": [
    {
     "name": "stdout",
     "output_type": "stream",
     "text": [
      "✅ Đã tạo collection: my_rag_collection\n"
     ]
    }
   ],
   "source": [
    "# 📌 Cell 6: Tạo collection mới trong Milvus\n",
    "milvus_client.create_collection(\n",
    "    collection_name=collection_name,\n",
    "    dimension=384,  # 384 = embedding size của all-MiniLM-L6-v2\n",
    "    metric_type=\"IP\",  # Inner Product (phù hợp cho similarity search)\n",
    "    consistency_level=\"Bounded\",\n",
    ")\n",
    "print(\"✅ Đã tạo collection:\", collection_name)\n"
   ]
  },
  {
   "cell_type": "code",
   "execution_count": 20,
   "id": "2e5bb6ef",
   "metadata": {},
   "outputs": [
    {
     "name": "stdout",
     "output_type": "stream",
     "text": [
      "🎉 Đã chèn 8 records vào Milvus collection 'my_rag_collection'\n"
     ]
    }
   ],
   "source": [
    "# 📌 Cell 7: Chuẩn bị dữ liệu và insert vào Milvus\n",
    "data = [\n",
    "    {\"id\": i, \"vector\": vec, \"text\": text}\n",
    "    for i, (text, vec) in enumerate(zip(text_lines, embeddings))\n",
    "]\n",
    "\n",
    "milvus_client.insert(collection_name=collection_name, data=data)\n",
    "print(f\"🎉 Đã chèn {len(data)} records vào Milvus collection '{collection_name}'\")\n"
   ]
  },
  {
   "cell_type": "markdown",
   "id": "0f80115e",
   "metadata": {},
   "source": [
    "# triển khai RAG"
   ]
  },
  {
   "cell_type": "code",
   "execution_count": 21,
   "id": "f5d333f4",
   "metadata": {},
   "outputs": [
    {
     "name": "stdout",
     "output_type": "stream",
     "text": [
      "kết quả của: Câu lạc bộ & Hoạt động ngoại khóa\n",
      "\n",
      "- CLB Tin học  \n",
      "- CLB Ngoại ngữ  \n",
      "- CLB Âm nhạc  \n",
      "- CLB Thể thao (bóng đá, bóng chuyền, cầu lông)  \n",
      "- Hoạt động thiện nguyện & phong trào thanh niên tình nguyện.\n"
     ]
    }
   ],
   "source": [
    "# 📌 Câu hỏi\n",
    "question = \"câu lạc bộ\"\n",
    "\n",
    "# 📌 Search trong Milvus (chỉ lấy top 1)\n",
    "search_res = milvus_client.search(\n",
    "    collection_name=collection_name,\n",
    "    data=[emb_text(question)],\n",
    "    limit=1,  # 🔹 Chỉ lấy 1 kết quả tốt nhất\n",
    "    search_params={\"metric_type\": \"IP\", \"params\": {}},\n",
    "    output_fields=[\"text\"],\n",
    ")\n",
    "\n",
    "# 📌 Lấy text từ kết quả\n",
    "best_text = search_res[0][0][\"entity\"][\"text\"]\n",
    "#best_distance = search_res[0][0][\"distance\"]\n",
    "\n",
    "print(\"kết quả của:\", best_text)\n",
    "#print(\"📏 Độ tương đồng:\", best_distance)\n"
   ]
  },
  {
   "cell_type": "code",
   "execution_count": null,
   "id": "12aeba71",
   "metadata": {},
   "outputs": [],
   "source": []
  }
 ],
 "metadata": {
  "kernelspec": {
   "display_name": "venv",
   "language": "python",
   "name": "python3"
  },
  "language_info": {
   "codemirror_mode": {
    "name": "ipython",
    "version": 3
   },
   "file_extension": ".py",
   "mimetype": "text/x-python",
   "name": "python",
   "nbconvert_exporter": "python",
   "pygments_lexer": "ipython3",
   "version": "3.13.7"
  }
 },
 "nbformat": 4,
 "nbformat_minor": 5
}
